{
 "cells": [
  {
   "cell_type": "markdown",
   "id": "6024e515-0c99-4210-892b-5642e1a6e2ef",
   "metadata": {},
   "source": [
    "<img alt=\"supercomputer-vs-cluster\" src=\"minion.png\" width=\"400px\" />"
   ]
  },
  {
   "cell_type": "markdown",
   "id": "b377212d-e4e2-4936-ac70-b256835643ec",
   "metadata": {},
   "source": [
    "<img alt=\"supercomputer-vs-cluster\" src=\"minion.png\" width=\"400\" />"
   ]
  },
  {
   "cell_type": "markdown",
   "id": "0436fded-3759-4aed-bd44-3d90873f6794",
   "metadata": {},
   "source": [
    "![supercomputer-vs-cluster](minion.png)"
   ]
  },
  {
   "cell_type": "markdown",
   "id": "104c4744-c4e1-42a6-951a-316bb65ee353",
   "metadata": {},
   "source": [
    "<img alt=\"supercomputer-vs-cluster\" src=\"minion.png\" width=\"400px\" />"
   ]
  },
  {
   "cell_type": "markdown",
   "id": "a8db4621-d174-4df2-b621-d7c130934671",
   "metadata": {},
   "source": [
    "<img alt=\"supercomputer-vs-cluster\" src=\"minion.png\" width=\"400\" />"
   ]
  },
  {
   "cell_type": "markdown",
   "id": "507cd8ca-42ef-4483-971d-9cda197e4cb0",
   "metadata": {},
   "source": [
    "![supercomputer-vs-cluster](minion.png)"
   ]
  },
  {
   "cell_type": "markdown",
   "id": "cb5d9df7-b557-4e3b-ae5d-0aef96a38dd3",
   "metadata": {},
   "source": [
    "<img src=\"minion.png\" width=\"400\" height=\"400\" style=\"background-image:url('https://github.aexp.com/ntiwari/aida-code-gallery/raw/101-hive_fundamentals/resources/minion.png');background-size:100% 100%\"/>"
   ]
  },
  {
   "cell_type": "markdown",
   "id": "c774160e-5946-4f83-811a-030706b918b9",
   "metadata": {},
   "source": [
    "<img src=\"minion.png\" width=\"400\" height=\"400\" onerror=\"this.onerror=null;this.src='https://github.aexp.com/ntiwari/aida-code-gallery/raw/101-hive_fundamentals/resources/minion.png'\"/>"
   ]
  },
  {
   "cell_type": "code",
   "execution_count": null,
   "id": "e9b1b527-062b-4697-bf1b-10a13c7bc3cb",
   "metadata": {},
   "outputs": [],
   "source": []
  }
 ],
 "metadata": {
  "kernelspec": {
   "display_name": "Python 3",
   "language": "python",
   "name": "python3"
  },
  "language_info": {
   "codemirror_mode": {
    "name": "ipython",
    "version": 3
   },
   "file_extension": ".py",
   "mimetype": "text/x-python",
   "name": "python",
   "nbconvert_exporter": "python",
   "pygments_lexer": "ipython3",
   "version": "3.7.3"
  }
 },
 "nbformat": 4,
 "nbformat_minor": 5
}
